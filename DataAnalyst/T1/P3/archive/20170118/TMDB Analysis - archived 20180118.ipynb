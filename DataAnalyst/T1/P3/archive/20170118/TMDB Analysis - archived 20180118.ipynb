{
 "cells": [
  {
   "cell_type": "code",
   "execution_count": 1,
   "metadata": {},
   "outputs": [],
   "source": [
    "import pandas as pd\n",
    "import numpy as np\n",
    "import matplotlib.pyplot as plt\n",
    "import seaborn as sns\n",
    "\n",
    "%matplotlib inline\n",
    "\n",
    "data = 'data/tmdb-movies.csv'\n",
    "\n",
    "imported_data = pd.read_csv(data)"
   ]
  },
  {
   "cell_type": "code",
   "execution_count": 2,
   "metadata": {},
   "outputs": [
    {
     "data": {
      "text/plain": [
       "(10866, 21)"
      ]
     },
     "execution_count": 2,
     "metadata": {},
     "output_type": "execute_result"
    }
   ],
   "source": [
    "imported_data.shape"
   ]
  },
  {
   "cell_type": "markdown",
   "metadata": {},
   "source": [
    "# Introduction\n",
    "## Description of Dataset\n",
    "I selected The Movie Database dataset from Kaggle for my project.  The dataset was created after IMDB requested a takedown of their data from Kaggle.  As a consequence, an open-source alternative was selected with the caveat that there were some open questions about the data:\n",
    "* The currency of the budget amounts is not known.\n",
    "* The revenue might not consistently show global revenues.\n",
    "* The dataset, as a whole, has not undergone quality auditing.\n",
    "    * There are 0s for numerous budget & revenue records.  It is recommended that 0s are treated as missing values for these records.\n",
    "    * Though not mentioned, because The Movie Database is a publicly curated dataset, it is subject to similar hesitations that other public, user-written databases are.  The database is not necessarily peer-reviewed or sourced for accuracy.\n",
    "    \n",
    "With these caveats in mind, I decided to review the dataset to look at the general character of the data, as well as perform some experimental cleaning functions.  The first question of interest to me is the scope of the movies in the dataset; what is the timespan of movies included, and how many are there?"
   ]
  },
  {
   "cell_type": "code",
   "execution_count": 3,
   "metadata": {},
   "outputs": [
    {
     "data": {
      "text/plain": [
       "min    1960\n",
       "max    2015\n",
       "Name: release_year, dtype: int64"
      ]
     },
     "execution_count": 3,
     "metadata": {},
     "output_type": "execute_result"
    }
   ],
   "source": [
    "imported_data['release_year'].agg(['min', 'max'])"
   ]
  },
  {
   "cell_type": "code",
   "execution_count": 4,
   "metadata": {},
   "outputs": [
    {
     "data": {
      "text/plain": [
       "Text(0,0.5,'Count')"
      ]
     },
     "execution_count": 4,
     "metadata": {},
     "output_type": "execute_result"
    },
    {
     "data": {
      "image/png": "[encoded data removed]",
      "text/plain": [
       "<matplotlib.figure.Figure at 0x7fe272a170b8>"
      ]
     },
     "metadata": {},
     "output_type": "display_data"
    }
   ],
   "source": [
    "counts_by_year = imported_data.groupby('release_year')['id'].count()\n",
    "\n",
    "plt.plot(counts_by_year)\n",
    "plt.title('Movies per year')\n",
    "plt.xlabel('Year')\n",
    "plt.ylabel('Count')"
   ]
  },
  {
   "cell_type": "markdown",
   "metadata": {},
   "source": [
    "We can see that the first movie included in the database is from 1960, and the latest is 2015; movies included seems to grow year-over-year on a seemingly logarithmic scale.  One might suppose this is because the more recent a movie is, the more likely a user is contribute meaningfully to information about it.  Similarly, it could be the case that more movies are actually produced as time goes on.  Meaningfully answering these questions would require juxtaposing the dataset against other data -- performing the quality assessment precluded in the Kaggle description -- as well as more rigorous statistical testing than a line chart.\n",
    "\n",
    "Interestingly, there are a few noticeable dips in movies per year.  An immediate one of note is in 2010, possibly a consequence of a [notable writer's strike](https://en.wikipedia.org/wiki/2007%E2%80%9308_Writers_Guild_of_America_strike).  The strike occurred from late 2007 and into early 2008, and might account for the dip in movies."
   ]
  },
  {
   "cell_type": "code",
   "execution_count": 5,
   "metadata": {},
   "outputs": [
    {
     "data": {
      "text/plain": [
       "release_year\n",
       "2006    408\n",
       "2007    438\n",
       "2008    496\n",
       "2009    533\n",
       "2010    490\n",
       "2011    540\n",
       "2012    588\n",
       "Name: id, dtype: int64"
      ]
     },
     "execution_count": 5,
     "metadata": {},
     "output_type": "execute_result"
    }
   ],
   "source": [
    "imported_data.query('release_year >= 2006 and release_year <= 2012').groupby('release_year')['id'].count()"
   ]
  },
  {
   "cell_type": "markdown",
   "metadata": {},
   "source": [
    "More information would be helpful to contextualize this fact of the data.  Notably, it might be helpful to know the standard production time of a movie -- to know when a movie being written, then optioned, is released theatrically!  I'm sure there are many confounding variables beyond the scope of this dataset and investigation, but nonetheless it is an interesting point to speculate on."
   ]
  },
  {
   "cell_type": "markdown",
   "metadata": {},
   "source": [
    "## Wrangling and Cleaning\n",
    "\n",
    "One of my goals for this dataset is understanding what exactly is included, and experimenting with teasing out interesting questions that it might contribute to answering.  To that end, I'll be looking at some of the standard techniques for assessing data:\n",
    "* Looking at the first and last 5 rows\n",
    "* getting a sense of how many values are missing\n",
    "* dropping some attributes that might not help with an analysis, either because they are poorly formatted, missing data, or require advanced techniques such as sentiment analysis."
   ]
  },
  {
   "cell_type": "code",
   "execution_count": 6,
   "metadata": {},
   "outputs": [
    {
     "data": {
      "text/html": [
       "<div>\n",
       "<style>\n",
       "    .dataframe thead tr:only-child th {\n",
       "        text-align: right;\n",
       "    }\n",
       "\n",
       "    .dataframe thead th {\n",
       "        text-align: left;\n",
       "    }\n",
       "\n",
       "    .dataframe tbody tr th {\n",
       "        vertical-align: top;\n",
       "    }\n",
       "</style>\n",
       "<table border=\"1\" class=\"dataframe\">\n",
       "  <thead>\n",
       "    <tr style=\"text-align: right;\">\n",
       "      <th></th>\n",
       "      <th>id</th>\n",
       "      <th>imdb_id</th>\n",
       "      <th>popularity</th>\n",
       "      <th>budget</th>\n",
       "      <th>revenue</th>\n",
       "      <th>original_title</th>\n",
       "      <th>cast</th>\n",
       "      <th>homepage</th>\n",
       "      <th>director</th>\n",
       "      <th>tagline</th>\n",
       "      <th>...</th>\n",
       "      <th>overview</th>\n",
       "      <th>runtime</th>\n",
       "      <th>genres</th>\n",
       "      <th>production_companies</th>\n",
       "      <th>release_date</th>\n",
       "      <th>vote_count</th>\n",
       "      <th>vote_average</th>\n",
       "      <th>release_year</th>\n",
       "      <th>budget_adj</th>\n",
       "      <th>revenue_adj</th>\n",
       "    </tr>\n",
       "  </thead>\n",
       "  <tbody>\n",
       "    <tr>\n",
       "      <th>0</th>\n",
       "      <td>135397</td>\n",
       "      <td>tt0369610</td>\n",
       "      <td>32.985763</td>\n",
       "      <td>150000000</td>\n",
       "      <td>1513528810</td>\n",
       "      <td>Jurassic World</td>\n",
       "      <td>Chris Pratt|Bryce Dallas Howard|Irrfan Khan|Vi...</td>\n",
       "      <td>http://www.jurassicworld.com/</td>\n",
       "      <td>Colin Trevorrow</td>\n",
       "      <td>The park is open.</td>\n",
       "      <td>...</td>\n",
       "      <td>Twenty-two years after the events of Jurassic ...</td>\n",
       "      <td>124</td>\n",
       "      <td>Action|Adventure|Science Fiction|Thriller</td>\n",
       "      <td>Universal Studios|Amblin Entertainment|Legenda...</td>\n",
       "      <td>6/9/15</td>\n",
       "      <td>5562</td>\n",
       "      <td>6.5</td>\n",
       "      <td>2015</td>\n",
       "      <td>1.379999e+08</td>\n",
       "      <td>1.392446e+09</td>\n",
       "    </tr>\n",
       "    <tr>\n",
       "      <th>1</th>\n",
       "      <td>76341</td>\n",
       "      <td>tt1392190</td>\n",
       "      <td>28.419936</td>\n",
       "      <td>150000000</td>\n",
       "      <td>378436354</td>\n",
       "      <td>Mad Max: Fury Road</td>\n",
       "      <td>Tom Hardy|Charlize Theron|Hugh Keays-Byrne|Nic...</td>\n",
       "      <td>http://www.madmaxmovie.com/</td>\n",
       "      <td>George Miller</td>\n",
       "      <td>What a Lovely Day.</td>\n",
       "      <td>...</td>\n",
       "      <td>An apocalyptic story set in the furthest reach...</td>\n",
       "      <td>120</td>\n",
       "      <td>Action|Adventure|Science Fiction|Thriller</td>\n",
       "      <td>Village Roadshow Pictures|Kennedy Miller Produ...</td>\n",
       "      <td>5/13/15</td>\n",
       "      <td>6185</td>\n",
       "      <td>7.1</td>\n",
       "      <td>2015</td>\n",
       "      <td>1.379999e+08</td>\n",
       "      <td>3.481613e+08</td>\n",
       "    </tr>\n",
       "    <tr>\n",
       "      <th>2</th>\n",
       "      <td>262500</td>\n",
       "      <td>tt2908446</td>\n",
       "      <td>13.112507</td>\n",
       "      <td>110000000</td>\n",
       "      <td>295238201</td>\n",
       "      <td>Insurgent</td>\n",
       "      <td>Shailene Woodley|Theo James|Kate Winslet|Ansel...</td>\n",
       "      <td>http://www.thedivergentseries.movie/#insurgent</td>\n",
       "      <td>Robert Schwentke</td>\n",
       "      <td>One Choice Can Destroy You</td>\n",
       "      <td>...</td>\n",
       "      <td>Beatrice Prior must confront her inner demons ...</td>\n",
       "      <td>119</td>\n",
       "      <td>Adventure|Science Fiction|Thriller</td>\n",
       "      <td>Summit Entertainment|Mandeville Films|Red Wago...</td>\n",
       "      <td>3/18/15</td>\n",
       "      <td>2480</td>\n",
       "      <td>6.3</td>\n",
       "      <td>2015</td>\n",
       "      <td>1.012000e+08</td>\n",
       "      <td>2.716190e+08</td>\n",
       "    </tr>\n",
       "    <tr>\n",
       "      <th>3</th>\n",
       "      <td>140607</td>\n",
       "      <td>tt2488496</td>\n",
       "      <td>11.173104</td>\n",
       "      <td>200000000</td>\n",
       "      <td>2068178225</td>\n",
       "      <td>Star Wars: The Force Awakens</td>\n",
       "      <td>Harrison Ford|Mark Hamill|Carrie Fisher|Adam D...</td>\n",
       "      <td>http://www.starwars.com/films/star-wars-episod...</td>\n",
       "      <td>J.J. Abrams</td>\n",
       "      <td>Every generation has a story.</td>\n",
       "      <td>...</td>\n",
       "      <td>Thirty years after defeating the Galactic Empi...</td>\n",
       "      <td>136</td>\n",
       "      <td>Action|Adventure|Science Fiction|Fantasy</td>\n",
       "      <td>Lucasfilm|Truenorth Productions|Bad Robot</td>\n",
       "      <td>12/15/15</td>\n",
       "      <td>5292</td>\n",
       "      <td>7.5</td>\n",
       "      <td>2015</td>\n",
       "      <td>1.839999e+08</td>\n",
       "      <td>1.902723e+09</td>\n",
       "    </tr>\n",
       "    <tr>\n",
       "      <th>4</th>\n",
       "      <td>168259</td>\n",
       "      <td>tt2820852</td>\n",
       "      <td>9.335014</td>\n",
       "      <td>190000000</td>\n",
       "      <td>1506249360</td>\n",
       "      <td>Furious 7</td>\n",
       "      <td>Vin Diesel|Paul Walker|Jason Statham|Michelle ...</td>\n",
       "      <td>http://www.furious7.com/</td>\n",
       "      <td>James Wan</td>\n",
       "      <td>Vengeance Hits Home</td>\n",
       "      <td>...</td>\n",
       "      <td>Deckard Shaw seeks revenge against Dominic Tor...</td>\n",
       "      <td>137</td>\n",
       "      <td>Action|Crime|Thriller</td>\n",
       "      <td>Universal Pictures|Original Film|Media Rights ...</td>\n",
       "      <td>4/1/15</td>\n",
       "      <td>2947</td>\n",
       "      <td>7.3</td>\n",
       "      <td>2015</td>\n",
       "      <td>1.747999e+08</td>\n",
       "      <td>1.385749e+09</td>\n",
       "    </tr>\n",
       "  </tbody>\n",
       "</table>\n",
       "<p>5 rows × 21 columns</p>\n",
       "</div>"
      ],
      "text/plain": [
       "       id    imdb_id  popularity     budget     revenue  \\\n",
       "0  135397  tt0369610   32.985763  150000000  1513528810   \n",
       "1   76341  tt1392190   28.419936  150000000   378436354   \n",
       "2  262500  tt2908446   13.112507  110000000   295238201   \n",
       "3  140607  tt2488496   11.173104  200000000  2068178225   \n",
       "4  168259  tt2820852    9.335014  190000000  1506249360   \n",
       "\n",
       "                 original_title  \\\n",
       "0                Jurassic World   \n",
       "1            Mad Max: Fury Road   \n",
       "2                     Insurgent   \n",
       "3  Star Wars: The Force Awakens   \n",
       "4                     Furious 7   \n",
       "\n",
       "                                                cast  \\\n",
       "0  Chris Pratt|Bryce Dallas Howard|Irrfan Khan|Vi...   \n",
       "1  Tom Hardy|Charlize Theron|Hugh Keays-Byrne|Nic...   \n",
       "2  Shailene Woodley|Theo James|Kate Winslet|Ansel...   \n",
       "3  Harrison Ford|Mark Hamill|Carrie Fisher|Adam D...   \n",
       "4  Vin Diesel|Paul Walker|Jason Statham|Michelle ...   \n",
       "\n",
       "                                            homepage          director  \\\n",
       "0                      http://www.jurassicworld.com/   Colin Trevorrow   \n",
       "1                        http://www.madmaxmovie.com/     George Miller   \n",
       "2     http://www.thedivergentseries.movie/#insurgent  Robert Schwentke   \n",
       "3  http://www.starwars.com/films/star-wars-episod...       J.J. Abrams   \n",
       "4                           http://www.furious7.com/         James Wan   \n",
       "\n",
       "                         tagline      ...       \\\n",
       "0              The park is open.      ...        \n",
       "1             What a Lovely Day.      ...        \n",
       "2     One Choice Can Destroy You      ...        \n",
       "3  Every generation has a story.      ...        \n",
       "4            Vengeance Hits Home      ...        \n",
       "\n",
       "                                            overview runtime  \\\n",
       "0  Twenty-two years after the events of Jurassic ...     124   \n",
       "1  An apocalyptic story set in the furthest reach...     120   \n",
       "2  Beatrice Prior must confront her inner demons ...     119   \n",
       "3  Thirty years after defeating the Galactic Empi...     136   \n",
       "4  Deckard Shaw seeks revenge against Dominic Tor...     137   \n",
       "\n",
       "                                      genres  \\\n",
       "0  Action|Adventure|Science Fiction|Thriller   \n",
       "1  Action|Adventure|Science Fiction|Thriller   \n",
       "2         Adventure|Science Fiction|Thriller   \n",
       "3   Action|Adventure|Science Fiction|Fantasy   \n",
       "4                      Action|Crime|Thriller   \n",
       "\n",
       "                                production_companies release_date vote_count  \\\n",
       "0  Universal Studios|Amblin Entertainment|Legenda...       6/9/15       5562   \n",
       "1  Village Roadshow Pictures|Kennedy Miller Produ...      5/13/15       6185   \n",
       "2  Summit Entertainment|Mandeville Films|Red Wago...      3/18/15       2480   \n",
       "3          Lucasfilm|Truenorth Productions|Bad Robot     12/15/15       5292   \n",
       "4  Universal Pictures|Original Film|Media Rights ...       4/1/15       2947   \n",
       "\n",
       "   vote_average  release_year    budget_adj   revenue_adj  \n",
       "0           6.5          2015  1.379999e+08  1.392446e+09  \n",
       "1           7.1          2015  1.379999e+08  3.481613e+08  \n",
       "2           6.3          2015  1.012000e+08  2.716190e+08  \n",
       "3           7.5          2015  1.839999e+08  1.902723e+09  \n",
       "4           7.3          2015  1.747999e+08  1.385749e+09  \n",
       "\n",
       "[5 rows x 21 columns]"
      ]
     },
     "execution_count": 6,
     "metadata": {},
     "output_type": "execute_result"
    }
   ],
   "source": [
    "imported_data.head()"
   ]
  },
  {
   "cell_type": "code",
   "execution_count": 7,
   "metadata": {},
   "outputs": [
    {
     "data": {
      "text/html": [
       "<div>\n",
       "<style>\n",
       "    .dataframe thead tr:only-child th {\n",
       "        text-align: right;\n",
       "    }\n",
       "\n",
       "    .dataframe thead th {\n",
       "        text-align: left;\n",
       "    }\n",
       "\n",
       "    .dataframe tbody tr th {\n",
       "        vertical-align: top;\n",
       "    }\n",
       "</style>\n",
       "<table border=\"1\" class=\"dataframe\">\n",
       "  <thead>\n",
       "    <tr style=\"text-align: right;\">\n",
       "      <th></th>\n",
       "      <th>id</th>\n",
       "      <th>imdb_id</th>\n",
       "      <th>popularity</th>\n",
       "      <th>budget</th>\n",
       "      <th>revenue</th>\n",
       "      <th>original_title</th>\n",
       "      <th>cast</th>\n",
       "      <th>homepage</th>\n",
       "      <th>director</th>\n",
       "      <th>tagline</th>\n",
       "      <th>...</th>\n",
       "      <th>overview</th>\n",
       "      <th>runtime</th>\n",
       "      <th>genres</th>\n",
       "      <th>production_companies</th>\n",
       "      <th>release_date</th>\n",
       "      <th>vote_count</th>\n",
       "      <th>vote_average</th>\n",
       "      <th>release_year</th>\n",
       "      <th>budget_adj</th>\n",
       "      <th>revenue_adj</th>\n",
       "    </tr>\n",
       "  </thead>\n",
       "  <tbody>\n",
       "    <tr>\n",
       "      <th>10861</th>\n",
       "      <td>21</td>\n",
       "      <td>tt0060371</td>\n",
       "      <td>0.080598</td>\n",
       "      <td>0</td>\n",
       "      <td>0</td>\n",
       "      <td>The Endless Summer</td>\n",
       "      <td>Michael Hynson|Robert August|Lord 'Tally Ho' B...</td>\n",
       "      <td>NaN</td>\n",
       "      <td>Bruce Brown</td>\n",
       "      <td>NaN</td>\n",
       "      <td>...</td>\n",
       "      <td>The Endless Summer, by Bruce Brown, is one of ...</td>\n",
       "      <td>95</td>\n",
       "      <td>Documentary</td>\n",
       "      <td>Bruce Brown Films</td>\n",
       "      <td>6/15/66</td>\n",
       "      <td>11</td>\n",
       "      <td>7.4</td>\n",
       "      <td>1966</td>\n",
       "      <td>0.000000</td>\n",
       "      <td>0.0</td>\n",
       "    </tr>\n",
       "    <tr>\n",
       "      <th>10862</th>\n",
       "      <td>20379</td>\n",
       "      <td>tt0060472</td>\n",
       "      <td>0.065543</td>\n",
       "      <td>0</td>\n",
       "      <td>0</td>\n",
       "      <td>Grand Prix</td>\n",
       "      <td>James Garner|Eva Marie Saint|Yves Montand|Tosh...</td>\n",
       "      <td>NaN</td>\n",
       "      <td>John Frankenheimer</td>\n",
       "      <td>Cinerama sweeps YOU into a drama of speed and ...</td>\n",
       "      <td>...</td>\n",
       "      <td>Grand Prix driver Pete Aron is fired by his te...</td>\n",
       "      <td>176</td>\n",
       "      <td>Action|Adventure|Drama</td>\n",
       "      <td>Cherokee Productions|Joel Productions|Douglas ...</td>\n",
       "      <td>12/21/66</td>\n",
       "      <td>20</td>\n",
       "      <td>5.7</td>\n",
       "      <td>1966</td>\n",
       "      <td>0.000000</td>\n",
       "      <td>0.0</td>\n",
       "    </tr>\n",
       "    <tr>\n",
       "      <th>10863</th>\n",
       "      <td>39768</td>\n",
       "      <td>tt0060161</td>\n",
       "      <td>0.065141</td>\n",
       "      <td>0</td>\n",
       "      <td>0</td>\n",
       "      <td>Beregis Avtomobilya</td>\n",
       "      <td>Innokentiy Smoktunovskiy|Oleg Efremov|Georgi Z...</td>\n",
       "      <td>NaN</td>\n",
       "      <td>Eldar Ryazanov</td>\n",
       "      <td>NaN</td>\n",
       "      <td>...</td>\n",
       "      <td>An insurance agent who moonlights as a carthie...</td>\n",
       "      <td>94</td>\n",
       "      <td>Mystery|Comedy</td>\n",
       "      <td>Mosfilm</td>\n",
       "      <td>1/1/66</td>\n",
       "      <td>11</td>\n",
       "      <td>6.5</td>\n",
       "      <td>1966</td>\n",
       "      <td>0.000000</td>\n",
       "      <td>0.0</td>\n",
       "    </tr>\n",
       "    <tr>\n",
       "      <th>10864</th>\n",
       "      <td>21449</td>\n",
       "      <td>tt0061177</td>\n",
       "      <td>0.064317</td>\n",
       "      <td>0</td>\n",
       "      <td>0</td>\n",
       "      <td>What's Up, Tiger Lily?</td>\n",
       "      <td>Tatsuya Mihashi|Akiko Wakabayashi|Mie Hama|Joh...</td>\n",
       "      <td>NaN</td>\n",
       "      <td>Woody Allen</td>\n",
       "      <td>WOODY ALLEN STRIKES BACK!</td>\n",
       "      <td>...</td>\n",
       "      <td>In comic Woody Allen's film debut, he took the...</td>\n",
       "      <td>80</td>\n",
       "      <td>Action|Comedy</td>\n",
       "      <td>Benedict Pictures Corp.</td>\n",
       "      <td>11/2/66</td>\n",
       "      <td>22</td>\n",
       "      <td>5.4</td>\n",
       "      <td>1966</td>\n",
       "      <td>0.000000</td>\n",
       "      <td>0.0</td>\n",
       "    </tr>\n",
       "    <tr>\n",
       "      <th>10865</th>\n",
       "      <td>22293</td>\n",
       "      <td>tt0060666</td>\n",
       "      <td>0.035919</td>\n",
       "      <td>19000</td>\n",
       "      <td>0</td>\n",
       "      <td>Manos: The Hands of Fate</td>\n",
       "      <td>Harold P. Warren|Tom Neyman|John Reynolds|Dian...</td>\n",
       "      <td>NaN</td>\n",
       "      <td>Harold P. Warren</td>\n",
       "      <td>It's Shocking! It's Beyond Your Imagination!</td>\n",
       "      <td>...</td>\n",
       "      <td>A family gets lost on the road and stumbles up...</td>\n",
       "      <td>74</td>\n",
       "      <td>Horror</td>\n",
       "      <td>Norm-Iris</td>\n",
       "      <td>11/15/66</td>\n",
       "      <td>15</td>\n",
       "      <td>1.5</td>\n",
       "      <td>1966</td>\n",
       "      <td>127642.279154</td>\n",
       "      <td>0.0</td>\n",
       "    </tr>\n",
       "  </tbody>\n",
       "</table>\n",
       "<p>5 rows × 21 columns</p>\n",
       "</div>"
      ],
      "text/plain": [
       "          id    imdb_id  popularity  budget  revenue  \\\n",
       "10861     21  tt0060371    0.080598       0        0   \n",
       "10862  20379  tt0060472    0.065543       0        0   \n",
       "10863  39768  tt0060161    0.065141       0        0   \n",
       "10864  21449  tt0061177    0.064317       0        0   \n",
       "10865  22293  tt0060666    0.035919   19000        0   \n",
       "\n",
       "                 original_title  \\\n",
       "10861        The Endless Summer   \n",
       "10862                Grand Prix   \n",
       "10863       Beregis Avtomobilya   \n",
       "10864    What's Up, Tiger Lily?   \n",
       "10865  Manos: The Hands of Fate   \n",
       "\n",
       "                                                    cast homepage  \\\n",
       "10861  Michael Hynson|Robert August|Lord 'Tally Ho' B...      NaN   \n",
       "10862  James Garner|Eva Marie Saint|Yves Montand|Tosh...      NaN   \n",
       "10863  Innokentiy Smoktunovskiy|Oleg Efremov|Georgi Z...      NaN   \n",
       "10864  Tatsuya Mihashi|Akiko Wakabayashi|Mie Hama|Joh...      NaN   \n",
       "10865  Harold P. Warren|Tom Neyman|John Reynolds|Dian...      NaN   \n",
       "\n",
       "                 director                                            tagline  \\\n",
       "10861         Bruce Brown                                                NaN   \n",
       "10862  John Frankenheimer  Cinerama sweeps YOU into a drama of speed and ...   \n",
       "10863      Eldar Ryazanov                                                NaN   \n",
       "10864         Woody Allen                          WOODY ALLEN STRIKES BACK!   \n",
       "10865    Harold P. Warren       It's Shocking! It's Beyond Your Imagination!   \n",
       "\n",
       "          ...                                                overview runtime  \\\n",
       "10861     ...       The Endless Summer, by Bruce Brown, is one of ...      95   \n",
       "10862     ...       Grand Prix driver Pete Aron is fired by his te...     176   \n",
       "10863     ...       An insurance agent who moonlights as a carthie...      94   \n",
       "10864     ...       In comic Woody Allen's film debut, he took the...      80   \n",
       "10865     ...       A family gets lost on the road and stumbles up...      74   \n",
       "\n",
       "                       genres  \\\n",
       "10861             Documentary   \n",
       "10862  Action|Adventure|Drama   \n",
       "10863          Mystery|Comedy   \n",
       "10864           Action|Comedy   \n",
       "10865                  Horror   \n",
       "\n",
       "                                    production_companies release_date  \\\n",
       "10861                                  Bruce Brown Films      6/15/66   \n",
       "10862  Cherokee Productions|Joel Productions|Douglas ...     12/21/66   \n",
       "10863                                            Mosfilm       1/1/66   \n",
       "10864                            Benedict Pictures Corp.      11/2/66   \n",
       "10865                                          Norm-Iris     11/15/66   \n",
       "\n",
       "      vote_count  vote_average  release_year     budget_adj  revenue_adj  \n",
       "10861         11           7.4          1966       0.000000          0.0  \n",
       "10862         20           5.7          1966       0.000000          0.0  \n",
       "10863         11           6.5          1966       0.000000          0.0  \n",
       "10864         22           5.4          1966       0.000000          0.0  \n",
       "10865         15           1.5          1966  127642.279154          0.0  \n",
       "\n",
       "[5 rows x 21 columns]"
      ]
     },
     "execution_count": 7,
     "metadata": {},
     "output_type": "execute_result"
    }
   ],
   "source": [
    "imported_data.tail()"
   ]
  },
  {
   "cell_type": "markdown",
   "metadata": {},
   "source": [
    "This dataset seems to be structured as a table; that is, it contains no strange artifacts after the end of the dataset that would complicate an analysis.  From a high-level view, it looks like the beginning and end of the data have appropriate values for each field."
   ]
  },
  {
   "cell_type": "code",
   "execution_count": 8,
   "metadata": {},
   "outputs": [
    {
     "name": "stdout",
     "output_type": "stream",
     "text": [
      "<class 'pandas.core.frame.DataFrame'>\n",
      "RangeIndex: 10866 entries, 0 to 10865\n",
      "Data columns (total 21 columns):\n",
      "id                      10866 non-null int64\n",
      "imdb_id                 10856 non-null object\n",
      "popularity              10866 non-null float64\n",
      "budget                  10866 non-null int64\n",
      "revenue                 10866 non-null int64\n",
      "original_title          10866 non-null object\n",
      "cast                    10790 non-null object\n",
      "homepage                2936 non-null object\n",
      "director                10822 non-null object\n",
      "tagline                 8042 non-null object\n",
      "keywords                9373 non-null object\n",
      "overview                10862 non-null object\n",
      "runtime                 10866 non-null int64\n",
      "genres                  10843 non-null object\n",
      "production_companies    9836 non-null object\n",
      "release_date            10866 non-null object\n",
      "vote_count              10866 non-null int64\n",
      "vote_average            10866 non-null float64\n",
      "release_year            10866 non-null int64\n",
      "budget_adj              10866 non-null float64\n",
      "revenue_adj             10866 non-null float64\n",
      "dtypes: float64(4), int64(6), object(11)\n",
      "memory usage: 1.7+ MB\n"
     ]
    }
   ],
   "source": [
    "imported_data.info()"
   ]
  },
  {
   "cell_type": "markdown",
   "metadata": {},
   "source": [
    "On the other hand, there are several fields that are missing values.  Furthermore, I know from the description of the dataset that the revenue and budget attributes ('budget', 'revenue', 'budget_adj', 'revenue_adj') contain 0 values that should be treated as missing rather than actual 0 values.\n",
    "\n",
    "For the fields missing many values, I want to spot check the kind of information contained to see if it seems important.  I particularly will be looking at the following:\n",
    "* 'homepage'\n",
    "* 'tagline'\n",
    "* 'keywords'\n",
    "* 'production_companies'"
   ]
  },
  {
   "cell_type": "code",
   "execution_count": 9,
   "metadata": {},
   "outputs": [
    {
     "data": {
      "text/plain": [
       "http://phantasm.com                                               4\n",
       "http://www.thehungergames.movie/                                  4\n",
       "http://www.missionimpossible.com/                                 4\n",
       "http://www.jeffdunham.com                                         3\n",
       "http://www.transformersmovie.com/                                 3\n",
       "http://www.kungfupanda.com/                                       3\n",
       "http://www.americanreunionmovie.com/                              3\n",
       "http://www.thehobbit.com/                                         3\n",
       "http://www.georgecarlin.com                                       3\n",
       "http://stepupmovie.com/                                           2\n",
       "http://www.theamazingspiderman.com                                2\n",
       "http://www.ironmanmovie.com/                                      2\n",
       "http://www.beowulfmovie.com/                                      2\n",
       "http://www.sexandthecitymovie.com/                                2\n",
       "http://www.magpictures.com/nymphomaniac/                          2\n",
       "http://www.riomovies.com/                                         2\n",
       "http://eleanorrigby-movie.com/                                    2\n",
       "http://www.lordoftherings.net/                                    2\n",
       "http://www.miramax.com/movie/kill-bill-volume-1/                  2\n",
       "http://disney.go.com/tron/                                        2\n",
       "http://www.khartonline.com/                                       2\n",
       "http://www.howtotrainyourdragon.com/                              2\n",
       "http://www.harrypotter.com                                        2\n",
       "http://www.zeitgeistmovie.com                                     2\n",
       "http://www.apocalypsenow.com                                      2\n",
       "http://www.indianajones.com                                       2\n",
       "http://www.munkyourself.com/                                      2\n",
       "http://disney.go.com/disneypictures/pirates/                      2\n",
       "http://www.snowtownthemovie.com                                   1\n",
       "http://www.uphe.com/movies/the-thing-2011                         1\n",
       "                                                                 ..\n",
       "https://www.uphe.com/movies/legend-2015                           1\n",
       "http://www.mylifetime.com/movies/bling-ring                       1\n",
       "http://plushthemovie.com/                                         1\n",
       "http://www.sonyclassics.com/memoryofakiller/                      1\n",
       "http://www.escapistthemovie.com/                                  1\n",
       "http://www.firstlookstudios.com/films/king/                       1\n",
       "http://www.sonypictures.com/movies/openseasonscaredsilly/         1\n",
       "http://toystory.disney.com/toy-story-2                            1\n",
       "http://www.theboynextdoorfilm.com/                                1\n",
       "https://www.facebook.com/The-Wicked-Within-266290676718514/       1\n",
       "http://channel.nationalgeographic.com/channel/killing-lincoln/    1\n",
       "http://www.wb-soldier.com/                                        1\n",
       "http://www.loveactually.com/                                      1\n",
       "http://www.letterstojuliet-movie.com/                             1\n",
       "http://www.birdemic.com/                                          1\n",
       "http://www.jackgoesboatingmovie.com/                              1\n",
       "http://unchainedmovie.com/                                        1\n",
       "http://www.saw3dmovie.com                                         1\n",
       "https://www.facebook.com/TheAnomalyMovie?fref=ts                  1\n",
       "http://red-themovie.com/                                          1\n",
       "http://www.sonypictures.com/movies/theidesofmarch/                1\n",
       "http://theovernight-movie.com/                                    1\n",
       "http://www.30daysofnight.com/                                     1\n",
       "http://kungfudunk.scholarfilms.com.tw/                            1\n",
       "http://www.trailerparkboysmovie.com/                              1\n",
       "http://www.shrinkthemovie.net/                                    1\n",
       "http://www.stevejobsthefilm.com                                   1\n",
       "http://facebook.com/hollowfilm                                    1\n",
       "http://iamrogue.com/macgruber/                                    1\n",
       "http://a24films.com/films/life-after-beth/                        1\n",
       "Name: homepage, Length: 2896, dtype: int64"
      ]
     },
     "execution_count": 9,
     "metadata": {},
     "output_type": "execute_result"
    }
   ],
   "source": [
    "imported_data['homepage'].value_counts()"
   ]
  },
  {
   "cell_type": "code",
   "execution_count": 10,
   "metadata": {
    "scrolled": true
   },
   "outputs": [
    {
     "data": {
      "text/plain": [
       "Based on a true story.                                                                                 5\n",
       "Two Films. One Love.                                                                                   3\n",
       "Be careful what you wish for.                                                                          3\n",
       "Based on the Best Selling Novel                                                                        2\n",
       "How far would you go?                                                                                  2\n",
       "A Love Story                                                                                           2\n",
       "What could go wrong?                                                                                   2\n",
       "The timeless tale of a special place where magic, hope and love grow.                                  2\n",
       "Worlds Collide                                                                                         2\n",
       "-                                                                                                      2\n",
       "Who's next?                                                                                            2\n",
       "Inspired by True Events                                                                                2\n",
       "Misery loves family.                                                                                   2\n",
       "No one is above the law.                                                                               2\n",
       "Some things are worth fighting for.                                                                    2\n",
       "Some things are better left buried.                                                                    2\n",
       "The only way out is down.                                                                              2\n",
       "Meet Fievel. In his search to find his family, he discovered America.                                  2\n",
       "Inspect the unexpected.                                                                                2\n",
       "Forget About Love                                                                                      2\n",
       "Survival is no game                                                                                    2\n",
       "There is no turning back                                                                               2\n",
       "Love is a force of nature.                                                                             2\n",
       "Some lines should never be crossed.                                                                    2\n",
       "Some houses are born bad.                                                                              2\n",
       "The chase is on!                                                                                       2\n",
       "The legend comes to life.                                                                              2\n",
       "There are two sides to every love story.                                                               2\n",
       "The end of the world is just the beginning.                                                            2\n",
       "Adapt or die.                                                                                          2\n",
       "                                                                                                      ..\n",
       "There's Plenty For Everyone!                                                                           1\n",
       "Check your pulse at the door... if you have one.                                                       1\n",
       "He came. He saw. He conquered. One sister at a time.                                                   1\n",
       "The ultimate killing machine. Part Man. Part Metal.                                                    1\n",
       "Can the most famous film star in the world fall for just an ordinary guy?                              1\n",
       "Ten million years in the making. The truth, the whole truth, and everything, but the truth!            1\n",
       "Living the Dream, One Heist at a Time                                                                  1\n",
       "The Most Highly Acclaimed Horror Phantasy Of Our Time.                                                 1\n",
       "They killed his wife ten years ago. There's still time to save her. Murder is forever... until now.    1\n",
       "An Apocalyptic Disaster of Biblical Proportions.                                                       1\n",
       "He ordered a martini...kissed a girl...and was plunged into a nightmare of danger.                     1\n",
       "This is a true story.                                                                                  1\n",
       "One high school drama teacher is about to make a huge number 2.                                        1\n",
       "Every Evil, Every Nightmare, Together in One Film                                                      1\n",
       "Welcome to the Bottom of the Food Chain!                                                               1\n",
       "Some movies stay with you forever... and ever... and ever.                                             1\n",
       "You may not like what he does, but are you prepared to give up his right to do it?                     1\n",
       "One night can change your whole life.                                                                  1\n",
       "It looked like the perfect bank robbery. But you can't judge a crime by its cover.                     1\n",
       "When it comes to family and relationships, there are no small surprises.                               1\n",
       "Keep your eye on the ball.                                                                             1\n",
       "If you can't beat 'em, steal him.                                                                      1\n",
       "Follow your heart and nothing is impossible.                                                           1\n",
       "In every good, there is evil. In Holly Gooding there is something worse. Much worse.                   1\n",
       "Legends Never Die.                                                                                     1\n",
       "His courage made them champions.                                                                       1\n",
       "Everyone has a past. Everyone has a secret.                                                            1\n",
       "Hotel Guest Check In...But They Don't Check Out!                                                       1\n",
       "Expect the Unexpected.                                                                                 1\n",
       "Every man fights his own war.                                                                          1\n",
       "Name: tagline, Length: 7997, dtype: int64"
      ]
     },
     "execution_count": 10,
     "metadata": {},
     "output_type": "execute_result"
    }
   ],
   "source": [
    "imported_data['tagline'].value_counts()"
   ]
  },
  {
   "cell_type": "code",
   "execution_count": 11,
   "metadata": {},
   "outputs": [
    {
     "data": {
      "text/plain": [
       "woman director                                                              134\n",
       "independent film                                                             82\n",
       "sport                                                                        25\n",
       "musical                                                                      24\n",
       "suspense                                                                     24\n",
       "duringcreditsstinger                                                         24\n",
       "holiday                                                                      16\n",
       "stand-up|stand up comedy                                                     16\n",
       "biography                                                                    15\n",
       "independent film|woman director                                              13\n",
       "stand up comedy                                                               9\n",
       "christmas                                                                     7\n",
       "found footage                                                                 7\n",
       "based on novel                                                                7\n",
       "dystopia                                                                      7\n",
       "holiday|christmas                                                             7\n",
       "aftercreditsstinger                                                           6\n",
       "sequel                                                                        6\n",
       "aftercreditsstinger|duringcreditsstinger                                      5\n",
       "crime solving                                                                 5\n",
       "cop|new england|jesse stone                                                   5\n",
       "werewolf                                                                      4\n",
       "zombies                                                                       4\n",
       "independent film|duringcreditsstinger                                         4\n",
       "dinosaur                                                                      4\n",
       "possession                                                                    4\n",
       "baseball|sport                                                                4\n",
       "based on video game                                                           4\n",
       "stand-up                                                                      4\n",
       "mutant|marvel comic|based on comic book|superhuman|storm                      3\n",
       "                                                                           ... \n",
       "reunion|high school reunion                                                   1\n",
       "helicopter|cemetery|boat|mexican standoff|sword                               1\n",
       "hawaii                                                                        1\n",
       "moon|total destruction|asteroid|space marine|liberation of prisoners          1\n",
       "cheating|ransom|salesclerk|winter|auto                                        1\n",
       "jealousy|inventor|neighbor|best friend|milliionaire                           1\n",
       "brendan ocarrol                                                               1\n",
       "university|discworld                                                          1\n",
       "behind the scenes|stop motion animation|animation|making of                   1\n",
       "flying|1970s|false identity|biography                                         1\n",
       "hotel|neo-noir                                                                1\n",
       "man vs machine|alien planet|struggle for survival                             1\n",
       "fetishism|naive|bdsm|individuality|school girl                                1\n",
       "virgin|castle|vampire|hammer horror                                           1\n",
       "holiday|difficult childhood|childhood memory|childhood trauma|psychopath      1\n",
       "u.s. president|monster|dream|heart|telekinesis                                1\n",
       "cabin|plot twist|cabin in the woods|filmed killing|video wall                 1\n",
       "surgeon|stalker|romantic comedy|dream girl|taboo                              1\n",
       "jane austen|duringcreditsstinger|woman director                               1\n",
       "butler|dublin|maid                                                            1\n",
       "kiss|sperm bank|romantic comedy|male female relationship|doctor               1\n",
       "journalist|independent film|hand clapping game|cult leader                    1\n",
       "monster                                                                       1\n",
       "farewell|federation|starfleet|peace conference|uss enterprise-a               1\n",
       "green|dodgeball|incredibile|timothy                                           1\n",
       "southern u.s.|strong woman|beauty|female friendship|based on play             1\n",
       "secret|train crash|pistol|firecracker|duringcreditsstinger                    1\n",
       "suicide|drug addiction|funeral|dysfunctional family|based on play             1\n",
       "staatsanwÃ¤ltin|cops|gangster|stakeout|police stakeout                        1\n",
       "magic|fantasy|steampunk|dragon                                                1\n",
       "Name: keywords, Length: 8804, dtype: int64"
      ]
     },
     "execution_count": 11,
     "metadata": {},
     "output_type": "execute_result"
    }
   ],
   "source": [
    "imported_data['keywords'].value_counts()"
   ]
  },
  {
   "cell_type": "code",
   "execution_count": 12,
   "metadata": {},
   "outputs": [
    {
     "data": {
      "text/plain": [
       "Paramount Pictures                                                                                                             156\n",
       "Universal Pictures                                                                                                             133\n",
       "Warner Bros.                                                                                                                    84\n",
       "Walt Disney Pictures                                                                                                            76\n",
       "Columbia Pictures                                                                                                               72\n",
       "Metro-Goldwyn-Mayer (MGM)                                                                                                       72\n",
       "New Line Cinema                                                                                                                 61\n",
       "Touchstone Pictures                                                                                                             51\n",
       "20th Century Fox                                                                                                                50\n",
       "Twentieth Century Fox Film Corporation                                                                                          49\n",
       "TriStar Pictures                                                                                                                45\n",
       "Orion Pictures                                                                                                                  42\n",
       "Miramax Films                                                                                                                   32\n",
       "DreamWorks Animation                                                                                                            31\n",
       "Columbia Pictures Corporation                                                                                                   31\n",
       "Pixar Animation Studios                                                                                                         30\n",
       "Walt Disney Productions                                                                                                         29\n",
       "Dimension Films                                                                                                                 28\n",
       "United Artists                                                                                                                  23\n",
       "Imagine Entertainment|Universal Pictures                                                                                        22\n",
       "Marvel Studios                                                                                                                  22\n",
       "Lions Gate Films                                                                                                                21\n",
       "The Asylum                                                                                                                      21\n",
       "New World Pictures                                                                                                              17\n",
       "Walt Disney Pictures|Pixar Animation Studios                                                                                    17\n",
       "Disney Channel                                                                                                                  14\n",
       "American International Pictures (AIP)                                                                                           14\n",
       "Hammer Film Productions                                                                                                         13\n",
       "DC Comics|Warner Bros. Animation                                                                                                12\n",
       "Universal Pictures|Amblin Entertainment                                                                                         12\n",
       "                                                                                                                              ... \n",
       "Twentieth Century Fox Film Corporation|Fox 2000 Pictures|Via Rosa Productions|Rosa Productions                                   1\n",
       "Brad Krevoy Television                                                                                                           1\n",
       "Dolby|Rue 21 Productions|Picture House Entertainmet                                                                              1\n",
       "Statement Pictures                                                                                                               1\n",
       "Weed Road Pictures|Warner Bros.|Dimension Films|Red Hour Films|AR-TL                                                             1\n",
       "Rogue Pictures|Relativity Media|Virgin Produced|Many Rivers Productions|Boy of the Year                                          1\n",
       "Village Roadshow Pictures|Dune Entertainment|Anarchos Productions|Warner Bros.                                                   1\n",
       "Emmett/Furla Films|Silver Plane Films|Mass Hysteria Entertainment|Tri Vision Pictures                                            1\n",
       "Night and Day Pictures|Bellwether Pictures                                                                                       1\n",
       "Tribeca Film|Illa Films                                                                                                          1\n",
       "Motion Picture Corporation of America|Mediapro Studios|Throttle Films                                                            1\n",
       "Egoli Tossell Film AG|Canal+|Arte France|Films en Stock                                                                          1\n",
       "Insight Film Studios|Redwood Palms Pictures|Remstar Productions                                                                  1\n",
       "Fine Line Features|Jersey Films                                                                                                  1\n",
       "Universal Pictures|Cineplex-Odeon Films                                                                                          1\n",
       "TriStar Pictures|Imagine Films Entertainment                                                                                     1\n",
       "TÃ©lÃ©film Canada|Panorama Films|Automatik Entertainment                                                                         1\n",
       "Judica Productions                                                                                                               1\n",
       "ZDF Enterprises                                                                                                                  1\n",
       "Kennedy Miller Productions|The Guber-Peters Company|Warner Bros.                                                                 1\n",
       "Larande Productions|Scream HQ                                                                                                    1\n",
       "Ferndale Films|Granada Television|Radio TelefÃ­s Ã‰ireann (RTÃ‰)                                                                 1\n",
       "Skopia Film|Mythberg Films|Cylinder Production                                                                                   1\n",
       "WWE Studios|Warner Bros. Feature Animation                                                                                       1\n",
       "DreamWorks SKG|Amblin Entertainment|Studio Babelsberg|Fox 2000 Pictures|Marc Platt Productions                                   1\n",
       "Media Asia Film|Sil-Metropole Organisation|Avex Inc.|Basic Pictures                                                              1\n",
       "Dark Castle Entertainment|Fever Dreams|Warner Premiere|Ludovico Technique                                                        1\n",
       "Avenging Conscience|Troma Entertainment|Cannibal Films Ltd.                                                                      1\n",
       "Twentieth Century Fox Film Corporation|Fox Animation Studios|Fox Family Films|The Big Gun Project|Little Wolf Entertainment      1\n",
       "Universal Pictures|Imagine Films Entertainment                                                                                   1\n",
       "Name: production_companies, Length: 7445, dtype: int64"
      ]
     },
     "execution_count": 12,
     "metadata": {},
     "output_type": "execute_result"
    }
   ],
   "source": [
    "imported_data['production_companies'].value_counts()"
   ]
  },
  {
   "cell_type": "markdown",
   "metadata": {},
   "source": [
    "OK, so those values make sense for these attributes, but they don't really seem helpful to my goals.  Maybe the homepages would be interesting if I were interested in having seeds for a web crawler, or the taglines to run through a natural language analysis -- maybe something to correlate sentiment to viewership.  The keywords are too sporadic and unstructured to be particularly helpful, I would think.\n",
    "\n",
    "I'm going to drop these attributes from my dataframe.  It'd probably be OK to leave them there and ignore then, but why keep them in memory if I don't have to?"
   ]
  },
  {
   "cell_type": "code",
   "execution_count": 13,
   "metadata": {},
   "outputs": [],
   "source": [
    "imported_data.drop(['homepage', 'tagline', 'keywords', 'production_companies'], axis=1, inplace=True)\n",
    "imported_data.drop_duplicates(inplace=True)"
   ]
  },
  {
   "cell_type": "code",
   "execution_count": 14,
   "metadata": {},
   "outputs": [
    {
     "data": {
      "text/plain": [
       "(10865, 17)"
      ]
     },
     "execution_count": 14,
     "metadata": {},
     "output_type": "execute_result"
    }
   ],
   "source": [
    "imported_data.shape"
   ]
  },
  {
   "cell_type": "markdown",
   "metadata": {},
   "source": [
    "Awesome!  Now, another thing I noticed about is that the release year isn't exactly helpful, so I want to change it to a datetime object in case I end up needing to do anything with the date."
   ]
  },
  {
   "cell_type": "code",
   "execution_count": 15,
   "metadata": {},
   "outputs": [],
   "source": [
    "from datetime import datetime\n",
    "\n",
    "def change_to_date(date_string):\n",
    "    return datetime.strptime(date_string, \"%m/%d/%y\")\n",
    "\n",
    "imported_data['release_date'] = imported_data['release_date'].apply(change_to_date)"
   ]
  },
  {
   "cell_type": "code",
   "execution_count": 16,
   "metadata": {},
   "outputs": [
    {
     "data": {
      "text/html": [
       "<div>\n",
       "<style>\n",
       "    .dataframe thead tr:only-child th {\n",
       "        text-align: right;\n",
       "    }\n",
       "\n",
       "    .dataframe thead th {\n",
       "        text-align: left;\n",
       "    }\n",
       "\n",
       "    .dataframe tbody tr th {\n",
       "        vertical-align: top;\n",
       "    }\n",
       "</style>\n",
       "<table border=\"1\" class=\"dataframe\">\n",
       "  <thead>\n",
       "    <tr style=\"text-align: right;\">\n",
       "      <th></th>\n",
       "      <th>id</th>\n",
       "      <th>imdb_id</th>\n",
       "      <th>popularity</th>\n",
       "      <th>budget</th>\n",
       "      <th>revenue</th>\n",
       "      <th>original_title</th>\n",
       "      <th>cast</th>\n",
       "      <th>director</th>\n",
       "      <th>overview</th>\n",
       "      <th>runtime</th>\n",
       "      <th>genres</th>\n",
       "      <th>release_date</th>\n",
       "      <th>vote_count</th>\n",
       "      <th>vote_average</th>\n",
       "      <th>release_year</th>\n",
       "      <th>budget_adj</th>\n",
       "      <th>revenue_adj</th>\n",
       "    </tr>\n",
       "  </thead>\n",
       "  <tbody>\n",
       "    <tr>\n",
       "      <th>0</th>\n",
       "      <td>135397</td>\n",
       "      <td>tt0369610</td>\n",
       "      <td>32.985763</td>\n",
       "      <td>150000000</td>\n",
       "      <td>1513528810</td>\n",
       "      <td>Jurassic World</td>\n",
       "      <td>Chris Pratt|Bryce Dallas Howard|Irrfan Khan|Vi...</td>\n",
       "      <td>Colin Trevorrow</td>\n",
       "      <td>Twenty-two years after the events of Jurassic ...</td>\n",
       "      <td>124</td>\n",
       "      <td>Action|Adventure|Science Fiction|Thriller</td>\n",
       "      <td>2015-06-09</td>\n",
       "      <td>5562</td>\n",
       "      <td>6.5</td>\n",
       "      <td>2015</td>\n",
       "      <td>1.379999e+08</td>\n",
       "      <td>1.392446e+09</td>\n",
       "    </tr>\n",
       "    <tr>\n",
       "      <th>1</th>\n",
       "      <td>76341</td>\n",
       "      <td>tt1392190</td>\n",
       "      <td>28.419936</td>\n",
       "      <td>150000000</td>\n",
       "      <td>378436354</td>\n",
       "      <td>Mad Max: Fury Road</td>\n",
       "      <td>Tom Hardy|Charlize Theron|Hugh Keays-Byrne|Nic...</td>\n",
       "      <td>George Miller</td>\n",
       "      <td>An apocalyptic story set in the furthest reach...</td>\n",
       "      <td>120</td>\n",
       "      <td>Action|Adventure|Science Fiction|Thriller</td>\n",
       "      <td>2015-05-13</td>\n",
       "      <td>6185</td>\n",
       "      <td>7.1</td>\n",
       "      <td>2015</td>\n",
       "      <td>1.379999e+08</td>\n",
       "      <td>3.481613e+08</td>\n",
       "    </tr>\n",
       "    <tr>\n",
       "      <th>2</th>\n",
       "      <td>262500</td>\n",
       "      <td>tt2908446</td>\n",
       "      <td>13.112507</td>\n",
       "      <td>110000000</td>\n",
       "      <td>295238201</td>\n",
       "      <td>Insurgent</td>\n",
       "      <td>Shailene Woodley|Theo James|Kate Winslet|Ansel...</td>\n",
       "      <td>Robert Schwentke</td>\n",
       "      <td>Beatrice Prior must confront her inner demons ...</td>\n",
       "      <td>119</td>\n",
       "      <td>Adventure|Science Fiction|Thriller</td>\n",
       "      <td>2015-03-18</td>\n",
       "      <td>2480</td>\n",
       "      <td>6.3</td>\n",
       "      <td>2015</td>\n",
       "      <td>1.012000e+08</td>\n",
       "      <td>2.716190e+08</td>\n",
       "    </tr>\n",
       "    <tr>\n",
       "      <th>3</th>\n",
       "      <td>140607</td>\n",
       "      <td>tt2488496</td>\n",
       "      <td>11.173104</td>\n",
       "      <td>200000000</td>\n",
       "      <td>2068178225</td>\n",
       "      <td>Star Wars: The Force Awakens</td>\n",
       "      <td>Harrison Ford|Mark Hamill|Carrie Fisher|Adam D...</td>\n",
       "      <td>J.J. Abrams</td>\n",
       "      <td>Thirty years after defeating the Galactic Empi...</td>\n",
       "      <td>136</td>\n",
       "      <td>Action|Adventure|Science Fiction|Fantasy</td>\n",
       "      <td>2015-12-15</td>\n",
       "      <td>5292</td>\n",
       "      <td>7.5</td>\n",
       "      <td>2015</td>\n",
       "      <td>1.839999e+08</td>\n",
       "      <td>1.902723e+09</td>\n",
       "    </tr>\n",
       "    <tr>\n",
       "      <th>4</th>\n",
       "      <td>168259</td>\n",
       "      <td>tt2820852</td>\n",
       "      <td>9.335014</td>\n",
       "      <td>190000000</td>\n",
       "      <td>1506249360</td>\n",
       "      <td>Furious 7</td>\n",
       "      <td>Vin Diesel|Paul Walker|Jason Statham|Michelle ...</td>\n",
       "      <td>James Wan</td>\n",
       "      <td>Deckard Shaw seeks revenge against Dominic Tor...</td>\n",
       "      <td>137</td>\n",
       "      <td>Action|Crime|Thriller</td>\n",
       "      <td>2015-04-01</td>\n",
       "      <td>2947</td>\n",
       "      <td>7.3</td>\n",
       "      <td>2015</td>\n",
       "      <td>1.747999e+08</td>\n",
       "      <td>1.385749e+09</td>\n",
       "    </tr>\n",
       "    <tr>\n",
       "      <th>10861</th>\n",
       "      <td>21</td>\n",
       "      <td>tt0060371</td>\n",
       "      <td>0.080598</td>\n",
       "      <td>0</td>\n",
       "      <td>0</td>\n",
       "      <td>The Endless Summer</td>\n",
       "      <td>Michael Hynson|Robert August|Lord 'Tally Ho' B...</td>\n",
       "      <td>Bruce Brown</td>\n",
       "      <td>The Endless Summer, by Bruce Brown, is one of ...</td>\n",
       "      <td>95</td>\n",
       "      <td>Documentary</td>\n",
       "      <td>2066-06-15</td>\n",
       "      <td>11</td>\n",
       "      <td>7.4</td>\n",
       "      <td>1966</td>\n",
       "      <td>0.000000e+00</td>\n",
       "      <td>0.000000e+00</td>\n",
       "    </tr>\n",
       "    <tr>\n",
       "      <th>10862</th>\n",
       "      <td>20379</td>\n",
       "      <td>tt0060472</td>\n",
       "      <td>0.065543</td>\n",
       "      <td>0</td>\n",
       "      <td>0</td>\n",
       "      <td>Grand Prix</td>\n",
       "      <td>James Garner|Eva Marie Saint|Yves Montand|Tosh...</td>\n",
       "      <td>John Frankenheimer</td>\n",
       "      <td>Grand Prix driver Pete Aron is fired by his te...</td>\n",
       "      <td>176</td>\n",
       "      <td>Action|Adventure|Drama</td>\n",
       "      <td>2066-12-21</td>\n",
       "      <td>20</td>\n",
       "      <td>5.7</td>\n",
       "      <td>1966</td>\n",
       "      <td>0.000000e+00</td>\n",
       "      <td>0.000000e+00</td>\n",
       "    </tr>\n",
       "    <tr>\n",
       "      <th>10863</th>\n",
       "      <td>39768</td>\n",
       "      <td>tt0060161</td>\n",
       "      <td>0.065141</td>\n",
       "      <td>0</td>\n",
       "      <td>0</td>\n",
       "      <td>Beregis Avtomobilya</td>\n",
       "      <td>Innokentiy Smoktunovskiy|Oleg Efremov|Georgi Z...</td>\n",
       "      <td>Eldar Ryazanov</td>\n",
       "      <td>An insurance agent who moonlights as a carthie...</td>\n",
       "      <td>94</td>\n",
       "      <td>Mystery|Comedy</td>\n",
       "      <td>2066-01-01</td>\n",
       "      <td>11</td>\n",
       "      <td>6.5</td>\n",
       "      <td>1966</td>\n",
       "      <td>0.000000e+00</td>\n",
       "      <td>0.000000e+00</td>\n",
       "    </tr>\n",
       "    <tr>\n",
       "      <th>10864</th>\n",
       "      <td>21449</td>\n",
       "      <td>tt0061177</td>\n",
       "      <td>0.064317</td>\n",
       "      <td>0</td>\n",
       "      <td>0</td>\n",
       "      <td>What's Up, Tiger Lily?</td>\n",
       "      <td>Tatsuya Mihashi|Akiko Wakabayashi|Mie Hama|Joh...</td>\n",
       "      <td>Woody Allen</td>\n",
       "      <td>In comic Woody Allen's film debut, he took the...</td>\n",
       "      <td>80</td>\n",
       "      <td>Action|Comedy</td>\n",
       "      <td>2066-11-02</td>\n",
       "      <td>22</td>\n",
       "      <td>5.4</td>\n",
       "      <td>1966</td>\n",
       "      <td>0.000000e+00</td>\n",
       "      <td>0.000000e+00</td>\n",
       "    </tr>\n",
       "    <tr>\n",
       "      <th>10865</th>\n",
       "      <td>22293</td>\n",
       "      <td>tt0060666</td>\n",
       "      <td>0.035919</td>\n",
       "      <td>19000</td>\n",
       "      <td>0</td>\n",
       "      <td>Manos: The Hands of Fate</td>\n",
       "      <td>Harold P. Warren|Tom Neyman|John Reynolds|Dian...</td>\n",
       "      <td>Harold P. Warren</td>\n",
       "      <td>A family gets lost on the road and stumbles up...</td>\n",
       "      <td>74</td>\n",
       "      <td>Horror</td>\n",
       "      <td>2066-11-15</td>\n",
       "      <td>15</td>\n",
       "      <td>1.5</td>\n",
       "      <td>1966</td>\n",
       "      <td>1.276423e+05</td>\n",
       "      <td>0.000000e+00</td>\n",
       "    </tr>\n",
       "  </tbody>\n",
       "</table>\n",
       "</div>"
      ],
      "text/plain": [
       "           id    imdb_id  popularity     budget     revenue  \\\n",
       "0      135397  tt0369610   32.985763  150000000  1513528810   \n",
       "1       76341  tt1392190   28.419936  150000000   378436354   \n",
       "2      262500  tt2908446   13.112507  110000000   295238201   \n",
       "3      140607  tt2488496   11.173104  200000000  2068178225   \n",
       "4      168259  tt2820852    9.335014  190000000  1506249360   \n",
       "10861      21  tt0060371    0.080598          0           0   \n",
       "10862   20379  tt0060472    0.065543          0           0   \n",
       "10863   39768  tt0060161    0.065141          0           0   \n",
       "10864   21449  tt0061177    0.064317          0           0   \n",
       "10865   22293  tt0060666    0.035919      19000           0   \n",
       "\n",
       "                     original_title  \\\n",
       "0                    Jurassic World   \n",
       "1                Mad Max: Fury Road   \n",
       "2                         Insurgent   \n",
       "3      Star Wars: The Force Awakens   \n",
       "4                         Furious 7   \n",
       "10861            The Endless Summer   \n",
       "10862                    Grand Prix   \n",
       "10863           Beregis Avtomobilya   \n",
       "10864        What's Up, Tiger Lily?   \n",
       "10865      Manos: The Hands of Fate   \n",
       "\n",
       "                                                    cast            director  \\\n",
       "0      Chris Pratt|Bryce Dallas Howard|Irrfan Khan|Vi...     Colin Trevorrow   \n",
       "1      Tom Hardy|Charlize Theron|Hugh Keays-Byrne|Nic...       George Miller   \n",
       "2      Shailene Woodley|Theo James|Kate Winslet|Ansel...    Robert Schwentke   \n",
       "3      Harrison Ford|Mark Hamill|Carrie Fisher|Adam D...         J.J. Abrams   \n",
       "4      Vin Diesel|Paul Walker|Jason Statham|Michelle ...           James Wan   \n",
       "10861  Michael Hynson|Robert August|Lord 'Tally Ho' B...         Bruce Brown   \n",
       "10862  James Garner|Eva Marie Saint|Yves Montand|Tosh...  John Frankenheimer   \n",
       "10863  Innokentiy Smoktunovskiy|Oleg Efremov|Georgi Z...      Eldar Ryazanov   \n",
       "10864  Tatsuya Mihashi|Akiko Wakabayashi|Mie Hama|Joh...         Woody Allen   \n",
       "10865  Harold P. Warren|Tom Neyman|John Reynolds|Dian...    Harold P. Warren   \n",
       "\n",
       "                                                overview  runtime  \\\n",
       "0      Twenty-two years after the events of Jurassic ...      124   \n",
       "1      An apocalyptic story set in the furthest reach...      120   \n",
       "2      Beatrice Prior must confront her inner demons ...      119   \n",
       "3      Thirty years after defeating the Galactic Empi...      136   \n",
       "4      Deckard Shaw seeks revenge against Dominic Tor...      137   \n",
       "10861  The Endless Summer, by Bruce Brown, is one of ...       95   \n",
       "10862  Grand Prix driver Pete Aron is fired by his te...      176   \n",
       "10863  An insurance agent who moonlights as a carthie...       94   \n",
       "10864  In comic Woody Allen's film debut, he took the...       80   \n",
       "10865  A family gets lost on the road and stumbles up...       74   \n",
       "\n",
       "                                          genres release_date  vote_count  \\\n",
       "0      Action|Adventure|Science Fiction|Thriller   2015-06-09        5562   \n",
       "1      Action|Adventure|Science Fiction|Thriller   2015-05-13        6185   \n",
       "2             Adventure|Science Fiction|Thriller   2015-03-18        2480   \n",
       "3       Action|Adventure|Science Fiction|Fantasy   2015-12-15        5292   \n",
       "4                          Action|Crime|Thriller   2015-04-01        2947   \n",
       "10861                                Documentary   2066-06-15          11   \n",
       "10862                     Action|Adventure|Drama   2066-12-21          20   \n",
       "10863                             Mystery|Comedy   2066-01-01          11   \n",
       "10864                              Action|Comedy   2066-11-02          22   \n",
       "10865                                     Horror   2066-11-15          15   \n",
       "\n",
       "       vote_average  release_year    budget_adj   revenue_adj  \n",
       "0               6.5          2015  1.379999e+08  1.392446e+09  \n",
       "1               7.1          2015  1.379999e+08  3.481613e+08  \n",
       "2               6.3          2015  1.012000e+08  2.716190e+08  \n",
       "3               7.5          2015  1.839999e+08  1.902723e+09  \n",
       "4               7.3          2015  1.747999e+08  1.385749e+09  \n",
       "10861           7.4          1966  0.000000e+00  0.000000e+00  \n",
       "10862           5.7          1966  0.000000e+00  0.000000e+00  \n",
       "10863           6.5          1966  0.000000e+00  0.000000e+00  \n",
       "10864           5.4          1966  0.000000e+00  0.000000e+00  \n",
       "10865           1.5          1966  1.276423e+05  0.000000e+00  "
      ]
     },
     "execution_count": 16,
     "metadata": {},
     "output_type": "execute_result"
    }
   ],
   "source": [
    "pd.concat([imported_data.head(),imported_data.tail()])"
   ]
  },
  {
   "cell_type": "markdown",
   "metadata": {},
   "source": [
    "There we go; that seems to be a good start.  There are some annoying facts about the data -- like that 'cast' and 'genres' are stored as pipe-delimited values.  That seems extremely unnecessary, but I'm not the architect, so I'll refrain from further judgment at this time.\n",
    "\n",
    "Spoiler alert: this does end up causing me a lot of frustration, especially because of how Pandas interacts with strings.\n",
    "\n",
    "# Exploring the Data\n",
    "\n",
    "An easy way to start exploring data is to look at some correlations.  We can't make any statistical inferences from scatterplots alone, but we might see that data trends in a particular way.  I'll start by looking at the relationship between the number of votes, and the average rating.  Maybe we'll see a common adage, \"people are more likely to express an opinion for something they dislike.\""
   ]
  },
  {
   "cell_type": "code",
   "execution_count": 17,
   "metadata": {},
   "outputs": [
    {
     "data": {
      "text/plain": [
       "Text(0,0.5,'Count of votes')"
      ]
     },
     "execution_count": 17,
     "metadata": {},
     "output_type": "execute_result"
    },
    {
     "data": {
      "image/png": "[encoded data removed]",
      "text/plain": [
       "<matplotlib.figure.Figure at 0x7fe2744ed4a8>"
      ]
     },
     "metadata": {},
     "output_type": "display_data"
    }
   ],
   "source": [
    "vote_counts = imported_data['vote_count']\n",
    "vote_averages = imported_data['vote_average']\n",
    "\n",
    "plt.scatter(vote_averages, vote_counts)\n",
    "plt.title(\"Vote count vs. average vote\")\n",
    "plt.xlabel(\"Average vote\")\n",
    "plt.ylabel(\"Count of votes\")"
   ]
  },
  {
   "cell_type": "markdown",
   "metadata": {},
   "source": [
    "Whoa!  There's a lot of records hovering at an extremely low number of votes.  You can almost claim a positive correlation between the count and average score, but I'm extremely hesitant to do so since so many entries "
   ]
  },
  {
   "cell_type": "code",
   "execution_count": 18,
   "metadata": {},
   "outputs": [
    {
     "data": {
      "text/plain": [
       "(7537, 3328, 0.6936953520478601)"
      ]
     },
     "execution_count": 18,
     "metadata": {},
     "output_type": "execute_result"
    }
   ],
   "source": [
    "low_votes = len(imported_data.query('vote_count < 100'))\n",
    "high_votes = len(imported_data.query('vote_count >= 100'))\n",
    "low_votes, high_votes, low_votes/len(imported_data)"
   ]
  },
  {
   "cell_type": "code",
   "execution_count": 19,
   "metadata": {},
   "outputs": [
    {
     "data": {
      "text/plain": [
       "0.0461113667740451"
      ]
     },
     "execution_count": 19,
     "metadata": {},
     "output_type": "execute_result"
    }
   ],
   "source": [
    "len(imported_data.query('vote_count <= 10'))/len(imported_data)"
   ]
  },
  {
   "cell_type": "markdown",
   "metadata": {},
   "source": [
    "Interesting.  Almost 70% of the movies have less than 100 votes.  It's hard to define what might even be considered an outlier with such a density of low votes.  5% of the movies have 10 or less votes!  I wonder what the distribution of ratings looks like..."
   ]
  },
  {
   "cell_type": "code",
   "execution_count": 20,
   "metadata": {},
   "outputs": [
    {
     "data": {
      "text/plain": [
       "Text(0.5,1,'Distribution of Average Rating')"
      ]
     },
     "execution_count": 20,
     "metadata": {},
     "output_type": "execute_result"
    },
    {
     "data": {
      "image/png": "[encoded data removed]",
      "text/plain": [
       "<matplotlib.figure.Figure at 0x7fe2729f0e80>"
      ]
     },
     "metadata": {},
     "output_type": "display_data"
    }
   ],
   "source": [
    "plt.hist(vote_averages)\n",
    "plt.title('Distribution of Average Rating')"
   ]
  },
  {
   "cell_type": "markdown",
   "metadata": {},
   "source": [
    "Maybe unsurprisingly, the distribution seems to match the general count of votes.  At least the averages are normally distributed."
   ]
  },
  {
   "cell_type": "code",
   "execution_count": 21,
   "metadata": {},
   "outputs": [
    {
     "data": {
      "text/plain": [
       "Text(0.5,1,'Distribution of Vote Count')"
      ]
     },
     "execution_count": 21,
     "metadata": {},
     "output_type": "execute_result"
    },
    {
     "data": {
      "image/png": "[encoded data removed]",
      "text/plain": [
       "<matplotlib.figure.Figure at 0x7fe2743ba0f0>"
      ]
     },
     "metadata": {},
     "output_type": "display_data"
    }
   ],
   "source": [
    "plt.hist(vote_counts)\n",
    "plt.title('Distribution of Vote Count')"
   ]
  },
  {
   "cell_type": "markdown",
   "metadata": {},
   "source": [
    "The distribution of vote counts, on the other hand, is so extremely right skewed I wonder if it's even usable as a datapoint."
   ]
  },
  {
   "cell_type": "code",
   "execution_count": 22,
   "metadata": {},
   "outputs": [
    {
     "data": {
      "text/plain": [
       "Text(0.5,1,'Distribution of votes, fewer than 100')"
      ]
     },
     "execution_count": 22,
     "metadata": {},
     "output_type": "execute_result"
    },
    {
     "data": {
      "image/png": "[encoded data removed]",
      "text/plain": [
       "<matplotlib.figure.Figure at 0x7fe274336860>"
      ]
     },
     "metadata": {},
     "output_type": "display_data"
    }
   ],
   "source": [
    "vote_counts_less_than_100 = imported_data.query('vote_count < 100')['vote_count']\n",
    "\n",
    "plt.hist(vote_counts_less_than_100)\n",
    "plt.title('Distribution of votes, fewer than 100')"
   ]
  },
  {
   "cell_type": "markdown",
   "metadata": {},
   "source": [
    "We can see that the distribution is the same when only considering records with fewer than 100 votes.  We could probably keep drilling down, but I'm not sure that would be a productive exercise.\n",
    "\n",
    "Instead, let's look at some of the other data points, like whether the budget has any impact on the rating."
   ]
  },
  {
   "cell_type": "code",
   "execution_count": 23,
   "metadata": {},
   "outputs": [
    {
     "data": {
      "text/plain": [
       "Text(0,0.5,'Movie budget')"
      ]
     },
     "execution_count": 23,
     "metadata": {},
     "output_type": "execute_result"
    },
    {
     "data": {
      "image/png": "[encoded data removed]",
      "text/plain": [
       "<matplotlib.figure.Figure at 0x7fe274322d30>"
      ]
     },
     "metadata": {},
     "output_type": "display_data"
    }
   ],
   "source": [
    "budgets = imported_data['budget_adj']\n",
    "\n",
    "plt.scatter(vote_averages, budgets)\n",
    "plt.title(\"Mean vote vs movie budget\")\n",
    "plt.xlabel(\"Mean rating\")\n",
    "plt.ylabel(\"Movie budget\")"
   ]
  },
  {
   "cell_type": "markdown",
   "metadata": {},
   "source": [
    "Yikes!  We can see that this value is similarly clustered around a low budget."
   ]
  },
  {
   "cell_type": "code",
   "execution_count": 24,
   "metadata": {},
   "outputs": [
    {
     "data": {
      "text/plain": [
       "min            0.0\n",
       "max    425000000.0\n",
       "Name: budget_adj, dtype: float64"
      ]
     },
     "execution_count": 24,
     "metadata": {},
     "output_type": "execute_result"
    }
   ],
   "source": [
    "imported_data['budget_adj'].agg(['min', 'max'])"
   ]
  },
  {
   "cell_type": "markdown",
   "metadata": {},
   "source": [
    "OK, let's remove the 0 values from the budget, which is something we know should be discounted from the description of the data."
   ]
  },
  {
   "cell_type": "code",
   "execution_count": 25,
   "metadata": {},
   "outputs": [
    {
     "data": {
      "text/plain": [
       "min    9.210911e-01\n",
       "max    4.250000e+08\n",
       "Name: budget_adj, dtype: float64"
      ]
     },
     "execution_count": 25,
     "metadata": {},
     "output_type": "execute_result"
    }
   ],
   "source": [
    "budget_df = imported_data[['budget_adj', 'vote_average']].query('budget_adj != 0')\n",
    "budget_df['budget_adj'].agg(['min', 'max'])"
   ]
  },
  {
   "cell_type": "code",
   "execution_count": 26,
   "metadata": {},
   "outputs": [
    {
     "data": {
      "text/plain": [
       "Text(0,0.5,'Movie budget')"
      ]
     },
     "execution_count": 26,
     "metadata": {},
     "output_type": "execute_result"
    },
    {
     "data": {
      "image/png": "[encoded data removed]",
      "text/plain": [
       "<matplotlib.figure.Figure at 0x7fe274289240>"
      ]
     },
     "metadata": {},
     "output_type": "display_data"
    }
   ],
   "source": [
    "budgets = budget_df['budget_adj']\n",
    "vote_averages = budget_df['vote_average']\n",
    "\n",
    "plt.scatter(vote_averages, budgets)\n",
    "plt.title(\"Mean vote vs movie budget\")\n",
    "plt.xlabel(\"Mean rating\")\n",
    "plt.ylabel(\"Movie budget\")"
   ]
  },
  {
   "cell_type": "markdown",
   "metadata": {},
   "source": [
    "Interestingly, the shape of this scatterplot doesn't seem to significantly change.  I wonder if these numerical data are useful in the context of an analysis.\n",
    "\n",
    "Perhaps it's best to switch tactics.  Let's take a look at the genres included for each movie, to get a sense of how commonly a label is applied to a movie.  I'm sure it's a simple matter to split a series in Pandas to aggregate a count of each value after splitting the value of each cell.\n",
    "\n",
    "Ha, ha!  Just kidding.  This exercise was actually one of the more painful things I've ever tried to do with Pandas, because I didn't notice in my earlier, initial review of the DataFrame's non-null counts that this field included some null values.  This missed detail led me down a strange journey through a rabbit hole with stops along way including opening a ticket about a bug in the Pandas library¹.  \n",
    "\n",
    "Finally, after much wrestling with the internal structure and a consideration of reloading the file using an entirely different library, I found that the issue was null values in the 'genres' field.  After dropping them, I was able to easily iterate through the values and count the frequency of each genre keyword.\n",
    "\n",
    "¹ Although the flaw was my own understanding of the dataset, it's a confusing behavior that the datatype of the missing strings defaulted to float; in my counting loop below, I kept tripping a type error because floats don't have a split method.  This implementation detail would be a good research topic about Pandas to learn the library more intimately."
   ]
  },
  {
   "cell_type": "code",
   "execution_count": 27,
   "metadata": {
    "scrolled": true
   },
   "outputs": [
    {
     "name": "stdout",
     "output_type": "stream",
     "text": [
      "23\n"
     ]
    },
    {
     "data": {
      "text/plain": [
       "Series([], Name: genres, dtype: int64)"
      ]
     },
     "execution_count": 27,
     "metadata": {},
     "output_type": "execute_result"
    }
   ],
   "source": [
    "bad_genres = imported_data[imported_data['genres'].apply(type) != type(imported_data['genres'].iloc[0])]['genres']\n",
    "print(len(bad_genres))\n",
    "bad_genres.value_counts()"
   ]
  },
  {
   "cell_type": "code",
   "execution_count": 28,
   "metadata": {},
   "outputs": [],
   "source": [
    "genres = imported_data['genres'].dropna().iteritems()\n",
    "genre_counts = {}\n",
    "\n",
    "for _, row in genres:\n",
    "    for v in row.split('|'):\n",
    "        if v not in genre_counts.keys():\n",
    "            genre_counts[v] = 1\n",
    "        else:\n",
    "            genre_counts[v] += 1"
   ]
  },
  {
   "cell_type": "markdown",
   "metadata": {},
   "source": [
    "Finally, let's make a bar chart to compare the relative frequencies of the genres, now that we've aggregated the totals from the 'genres' series."
   ]
  },
  {
   "cell_type": "code",
   "execution_count": 29,
   "metadata": {},
   "outputs": [
    {
     "data": {
      "text/plain": [
       "<matplotlib.axes._subplots.AxesSubplot at 0x7fe274230668>"
      ]
     },
     "execution_count": 29,
     "metadata": {},
     "output_type": "execute_result"
    },
    {
     "data": {
      "image/png": "[encoded data removed]",
      "text/plain": [
       "<matplotlib.figure.Figure at 0x7fe274245d68>"
      ]
     },
     "metadata": {},
     "output_type": "display_data"
    }
   ],
   "source": [
    "genre_counts_df = pd.DataFrame(list(genre_counts.items()), columns=['Genre', 'Count'])\n",
    "\n",
    "genre_counts_df.set_index('Genre').nlargest(10, 'Count').plot.bar()"
   ]
  },
  {
   "cell_type": "markdown",
   "metadata": {},
   "source": [
    "Interesting.  It looks like the most movies are tagged as dramas.  Not to overemphasize my own journey, but that seems like an appropriate end to my own exploration.  Certainly, I felt my struggle with making this simple chart a dramatic struggle worthy of a Greek playwright."
   ]
  }
 ],
 "metadata": {
  "kernelspec": {
   "display_name": "Python 3",
   "language": "python",
   "name": "python3"
  },
  "language_info": {
   "codemirror_mode": {
    "name": "ipython",
    "version": 3
   },
   "file_extension": ".py",
   "mimetype": "text/x-python",
   "name": "python",
   "nbconvert_exporter": "python",
   "pygments_lexer": "ipython3",
   "version": "3.6.3"
  }
 },
 "nbformat": 4,
 "nbformat_minor": 2
}
